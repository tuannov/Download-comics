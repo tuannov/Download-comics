{
 "metadata": {
  "language_info": {
   "codemirror_mode": {
    "name": "ipython",
    "version": 3
   },
   "file_extension": ".py",
   "mimetype": "text/x-python",
   "name": "python",
   "nbconvert_exporter": "python",
   "pygments_lexer": "ipython3",
   "version": "3.8.5"
  },
  "orig_nbformat": 4,
  "kernelspec": {
   "name": "python3",
   "display_name": "Python 3.8.5 64-bit ('venv': venv)"
  },
  "interpreter": {
   "hash": "1acb1e118a75fea30ea7b583ce3945b85f28fbdc1bbf73916f214b7322deb0fd"
  }
 },
 "nbformat": 4,
 "nbformat_minor": 2,
 "cells": [
  {
   "cell_type": "code",
   "execution_count": 1,
   "metadata": {},
   "outputs": [],
   "source": [
    "from requests_html import HTMLSession\n",
    "import os"
   ]
  },
  {
   "cell_type": "code",
   "execution_count": 2,
   "metadata": {},
   "outputs": [
    {
     "output_type": "execute_result",
     "data": {
      "text/plain": [
       "<Response [200]>"
      ]
     },
     "metadata": {},
     "execution_count": 2
    }
   ],
   "source": [
    "url = 'http://www.nettruyentop.com/truyen-tranh/the-gioi-hoan-my/'\n",
    "s  = HTMLSession()\n",
    "resp = s.get(url)\n",
    "resp"
   ]
  },
  {
   "cell_type": "code",
   "execution_count": null,
   "metadata": {
    "tags": [
     "outputPrepend"
    ]
   },
   "outputs": [],
   "source": [
    "# name, link to all chapter\n",
    "for chapter in resp.html.find('#nt_listchapter', first=True).find('div.col-xs-5.chapter'):\n",
    "    name_chapter = chapter.text\n",
    "    link_chapter = chapter.find('a', first=True).attrs['href']\n",
    "    \n",
    "    # create folder with each name chapter\n",
    "    try:\n",
    "        os.mkdir(os.path.join(os.getcwd(), name_chapter))\n",
    "    except:\n",
    "        break\n",
    "    # request to each link_chapter \n",
    "    print(f'Connect to {name_chapter}: {link_chapter}')\n",
    "    s  = HTMLSession()\n",
    "    r = s.get(link_chapter)\n",
    "    for item in r.html.find('div .reading-detail.box_doc', first=True).find('img'):\n",
    "        \n",
    "        link_image = 'http:'+ item.attrs['src']\n",
    "        name_image = item.attrs['alt'].split('-')[-1].strip()\n",
    "\n",
    "        print(f'-{name_image}: {link_image}')\n",
    "\n",
    "        # request to each image in chapter\n",
    "        querystring = {\"data\":\"net\"}\n",
    "        headers = {\n",
    "            \"Referer\": \"http://www.nettruyentop.com/\",\n",
    "            \"User-Agent\": \"Mozilla/5.0 (X11; Linux x86_64) AppleWebKit/537.36 (KHTML, like Gecko) Chrome/91.0.4472.77 Safari/537.36\"\n",
    "        }\n",
    "        s  = HTMLSession()\n",
    "        r = s.get(link_image, headers=headers, params=querystring)\n",
    "\n",
    "        # save image to folder\n",
    "        print('Save...')\n",
    "        with open(name_chapter+'/'+name_image+'.jpg', 'wb') as f:\n",
    "            f.write(response.content)"
   ]
  },
  {
   "cell_type": "code",
   "execution_count": null,
   "metadata": {},
   "outputs": [],
   "source": [
    "# test 1 link image\n",
    "link_image = 'http://truyenimg.xyz/data/images/11938/648498/011.jpg?data=net'\n",
    "querystring = {\"data\":\"net\"}\n",
    "headers = {\n",
    "    \"Referer\": \"http://www.nettruyentop.com/\",\n",
    "    \"User-Agent\": \"Mozilla/5.0 (X11; Linux x86_64) AppleWebKit/537.36 (KHTML, like Gecko) Chrome/91.0.4472.77 Safari/537.36\"\n",
    "}\n",
    "s  = HTMLSession()\n",
    "r = s.get(link_image, headers=headers, params=querystring)\n",
    "with open('1.jpg','wb') as f:\n",
    "    f.write(r.content)"
   ]
  },
  {
   "cell_type": "code",
   "execution_count": null,
   "metadata": {},
   "outputs": [],
   "source": []
  }
 ]
}